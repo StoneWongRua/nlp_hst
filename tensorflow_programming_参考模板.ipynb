{
 "cells": [
  {
   "cell_type": "markdown",
   "metadata": {
    "colab_type": "text",
    "id": "rFpcvnCJ4Xkf"
   },
   "source": [
    " # 任务1 TensorFlow 编程概念"
   ]
  },
  {
   "cell_type": "markdown",
   "metadata": {
    "colab_type": "text",
    "id": "VL0yWNNdgBpG"
   },
   "source": [
    " ## 创建一个简单的 TensorFlow 程序\n",
    "\n",
    "我们来看看如何编写一个将两个常量相加的简单 TensorFlow 程序。"
   ]
  },
  {
   "cell_type": "markdown",
   "metadata": {
    "colab_type": "text",
    "id": "mN4R0gmMzah3"
   },
   "source": [
    " ### 步骤1：添加 import 语句\n",
    "\n",
    "与几乎所有 Python 程序一样，您首先要添加一些 `import` 语句。\n",
    "当然，运行 TensorFlow 程序所需的 `import` 语句组合取决于您的程序将要访问的功能。至少，您必须在所有 TensorFlow 程序中添加 `import tensorflow` 语句："
   ]
  },
  {
   "cell_type": "code",
   "execution_count": 0,
   "metadata": {
    "colab": {
     "autoexec": {
      "startup": false,
      "wait_interval": 0
     }
    },
    "colab_type": "code",
    "id": "SDbi6heigEGA"
   },
   "outputs": [],
   "source": [
    "import tensorflow as tf"
   ]
  },
  {
   "cell_type": "markdown",
   "metadata": {
    "colab_type": "text",
    "id": "6RRT4YIA4fQd"
   },
   "source": [
    " **请勿忘记执行前面的代码块（`import` 语句）。**\n",
    "\n",
    "其他常见的 import 语句包括：\n",
    "\n",
    "```\n",
    "import matplotlib.pyplot as plt # 数据集可视化。\n",
    "import numpy as np              # 低级数字 Python 库。\n",
    "import pandas as pd             # 较高级别的数字 Python 库。\n",
    "```"
   ]
  },
  {
   "cell_type": "markdown",
   "metadata": {
    "colab_type": "text",
    "id": "1aNpvufRgbTD"
   },
   "source": [
    " ### 步骤2：创建Graph\n",
    " TensorFlow 提供了一个**默认图**。不过，我们建议您明确创建自己的 `Graph`，以便跟踪状态（例如，您可能希望在每个单元格中使用一个不同的 `Graph`）。"
   ]
  },
  {
   "cell_type": "code",
   "execution_count": 0,
   "metadata": {
    "colab": {
     "autoexec": {
      "startup": false,
      "wait_interval": 0
     }
    },
    "colab_type": "code",
    "id": "Md8ze8e9geMi"
   },
   "outputs": [],
   "source": [
    "from __future__ import print_function\n",
    "\n",
    "import tensorflow as tf\n",
    "\n",
    "# Create a graph.\n",
    "g = tf.Graph()\n",
    "\n",
    "# Establish the graph as the \"default\" graph.\n",
    "with g.as_default():\n",
    "  # Assemble a graph consisting of the following three operations:\n",
    "  #   * Two tf.constant operations to create the operands.\n",
    "  #   * One tf.add operation to add the two operands.\n",
    "  x = tf.constant(8, name=\"x_const\")\n",
    "  y = tf.constant(5, name=\"y_const\")\n",
    "  sum = tf.add(x, y, name=\"x_y_sum\")\n",
    "\n",
    "\n",
    "  # Now create a session.\n",
    "  # The session will run the default graph.\n",
    "  with tf.Session() as sess:\n",
    "    print(sum.eval())"
   ]
  },
  {
   "cell_type": "markdown",
   "metadata": {
    "colab_type": "text",
    "id": "7mSz5GVqggZy"
   },
   "source": [
    " ## 步骤3：引入第三个运算数\n",
    "\n",
    "修改上面的代码列表，以将三个整数（而不是两个）相加：\n",
    "\n",
    "  1. 定义第三个标量整数常量 `z`，并为其分配一个值 `4`。\n",
    "  2. 将 `sum` 与 `z` 相加，以得出一个新的和。\n",
    "  \n",
    "  **提示：**请参阅有关 [tf.add()](https://www.tensorflow.org/api_docs/python/tf/add) 的 API 文档，了解有关其函数签名的更多详细信息。\n",
    "  \n",
    "  3. 重新运行修改后的代码块。该程序是否生成了正确的总和？"
   ]
  },
  {
   "cell_type": "markdown",
   "metadata": {
    "colab_type": "text",
    "id": "Zep4W80H9awM"
   },
   "source": [
    " #### 解决方案\n",
    "\n",
    "点击下方，查看解决方案。"
   ]
  },
  {
   "cell_type": "code",
   "execution_count": 0,
   "metadata": {
    "colab": {
     "autoexec": {
      "startup": false,
      "wait_interval": 0
     }
    },
    "colab_type": "code",
    "id": "4OTZPqhS9kzu"
   },
   "outputs": [],
   "source": [
    "# Create a graph.\n",
    "g = tf.Graph()\n",
    "\n",
    "# Establish our graph as the \"default\" graph.\n",
    "with g.as_default():\n",
    "  # Assemble a graph consisting of three operations. \n",
    "  # (Creating a tensor is an operation.)\n",
    "  x = tf.constant(8, name=\"x_const\")\n",
    "  y = tf.constant(5, name=\"y_const\")\n",
    "  sum = tf.add(x, y, name=\"x_y_sum\")\n",
    "  \n",
    "  # Task 1: Define a third scalar integer constant z.\n",
    "  z = tf.constant(4, name=\"z_const\")\n",
    "  # Task 2: Add z to `sum` to yield a new sum.\n",
    "  new_sum = tf.add(sum, z, name=\"x_y_z_sum\")\n",
    "\n",
    "  # Now create a session.\n",
    "  # The session will run the default graph.\n",
    "  with tf.Session() as sess:\n",
    "    # Task 3: Ensure the program yields the correct grand total.\n",
    "    print(new_sum.eval())"
   ]
  }
 ],
 "metadata": {
  "colab": {
   "collapsed_sections": [
    "Zep4W80H9awM",
    "copyright-notice"
   ],
   "default_view": {},
   "name": "tensorflow_programming_concepts.ipynb",
   "version": "0.3.2",
   "views": {}
  },
  "kernelspec": {
   "display_name": "Python 3",
   "language": "python",
   "name": "python3"
  },
  "language_info": {
   "codemirror_mode": {
    "name": "ipython",
    "version": 3
   },
   "file_extension": ".py",
   "mimetype": "text/x-python",
   "name": "python",
   "nbconvert_exporter": "python",
   "pygments_lexer": "ipython3",
   "version": "3.7.3"
  }
 },
 "nbformat": 4,
 "nbformat_minor": 1
}
